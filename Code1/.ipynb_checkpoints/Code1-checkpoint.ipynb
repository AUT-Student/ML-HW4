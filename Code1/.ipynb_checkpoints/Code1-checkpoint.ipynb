{
 "cells": [
  {
   "cell_type": "markdown",
   "id": "honest-apparatus",
   "metadata": {},
   "source": [
    "# Libraries"
   ]
  },
  {
   "cell_type": "code",
   "execution_count": 94,
   "id": "italian-butler",
   "metadata": {},
   "outputs": [],
   "source": [
    "from PIL import Image\n",
    "import numpy as np\n",
    "import pandas as pd\n",
    "import random\n",
    "import math\n",
    "from matplotlib import pyplot as plt"
   ]
  },
  {
   "cell_type": "markdown",
   "id": "exact-relay",
   "metadata": {},
   "source": [
    "# Load Image"
   ]
  },
  {
   "cell_type": "code",
   "execution_count": 8,
   "id": "minute-serum",
   "metadata": {},
   "outputs": [],
   "source": [
    "def load_image(path):\n",
    "    image = Image.open(path)\n",
    "    return np.asarray(image)"
   ]
  },
  {
   "cell_type": "markdown",
   "id": "banned-evanescence",
   "metadata": {},
   "source": [
    "# K-Means"
   ]
  },
  {
   "cell_type": "code",
   "execution_count": 118,
   "id": "august-starter",
   "metadata": {},
   "outputs": [],
   "source": [
    "def k_means(data, k, number_iterations):\n",
    "    n = len(data)\n",
    "    centers = []\n",
    "\n",
    "    # initialize centers\n",
    "    random_list = random.sample(range(0, n), k)\n",
    "\n",
    "    for i in random_list:\n",
    "        centers.append(data[i])\n",
    "\n",
    "    for iteration in range(number_iterations):\n",
    "        # Find cluster of each points\n",
    "        c_list = []\n",
    "        for i in range(n):\n",
    "            best_distance = math.inf\n",
    "            best_cluster = -1\n",
    "            for j in range(k):\n",
    "                distance = np.linalg.norm(data[i]-centers[j])\n",
    "                if distance < best_distance:\n",
    "                    best_distance = distance\n",
    "                    best_cluster = j\n",
    "            c_list.append(best_cluster)\n",
    "\n",
    "        centers = []\n",
    "        # Calculate new centers\n",
    "        for j in range(k):\n",
    "            data_class = []\n",
    "\n",
    "            for i in range(n):\n",
    "                if c_list[i] == j:\n",
    "                    data_class.append(data[i])\n",
    "                    \n",
    "            centers.append(np.mean(data_class, axis=0))\n",
    "\n",
    "    return c_list, centers"
   ]
  },
  {
   "cell_type": "code",
   "execution_count": 119,
   "id": "overall-crest",
   "metadata": {},
   "outputs": [],
   "source": [
    "def reconstruct(c_list, centers, data_img_shape):\n",
    "    data_reconstructed = []\n",
    "\n",
    "    for i in range(len(c_list)):\n",
    "        data_reconstructed.append(centers[c_list[i]])\n",
    "\n",
    "    data_reconstructed = np.array(data_reconstructed)\n",
    "\n",
    "    data_img_reconstructed = data_reconstructed.reshape(data_img_shape)\n",
    "    \n",
    "    data_img_reconstructed = data_img_reconstructed.astype(int)\n",
    "    \n",
    "    return data_img_reconstructed"
   ]
  },
  {
   "cell_type": "markdown",
   "id": "authentic-foundation",
   "metadata": {},
   "source": [
    "# Run"
   ]
  },
  {
   "cell_type": "code",
   "execution_count": null,
   "id": "expressed-painting",
   "metadata": {},
   "outputs": [
    {
     "name": "stdout",
     "output_type": "stream",
     "text": [
      "k=2\n",
      "k=3\n",
      "k=4\n",
      "k=5\n",
      "k=6\n",
      "k=10\n"
     ]
    }
   ],
   "source": [
    "for path in [\"./data/bird.jpg\", \"./data/car.JPG\", \"./data/holi-festival.jpg\"]:\n",
    "\n",
    "    data_img = load_image(path)\n",
    "    data = data_img.reshape(-1,3)\n",
    "\n",
    "    fig, ax = plt.subplots(2,4)\n",
    "    for ki, k in enumerate([2, 3, 4, 5, 6, 10, 15, 20]):\n",
    "        print(f\"k={k}\")\n",
    "        c_list, centers = k_means(data=data, k=k, number_iterations=10)\n",
    "\n",
    "        data_img_reconstructed =reconstruct(c_list, centers, data_img.shape)\n",
    "\n",
    "        ax[int(ki/4)][ki%4].imshow(data_img_reconstructed, interpolation='nearest')\n",
    "        ax[int(ki/4)][ki%4].title.set_text(f\"k = {k}\")\n",
    "        ax[int(ki/4)][ki%4].get_xaxis().set_visible(False)\n",
    "        ax[int(ki/4)][ki%4].get_yaxis().set_visible(False)\n",
    "\n",
    "    if path == \"./data/car.JPG\":\n",
    "        fig.set_size_inches(17,4)\n",
    "    else:\n",
    "        fig.set_size_inches(17,7)\n",
    "    plt.show()"
   ]
  },
  {
   "cell_type": "code",
   "execution_count": null,
   "id": "listed-boxing",
   "metadata": {},
   "outputs": [],
   "source": []
  }
 ],
 "metadata": {
  "kernelspec": {
   "display_name": "Python 3",
   "language": "python",
   "name": "python3"
  },
  "language_info": {
   "codemirror_mode": {
    "name": "ipython",
    "version": 3
   },
   "file_extension": ".py",
   "mimetype": "text/x-python",
   "name": "python",
   "nbconvert_exporter": "python",
   "pygments_lexer": "ipython3",
   "version": "3.9.1"
  }
 },
 "nbformat": 4,
 "nbformat_minor": 5
}
